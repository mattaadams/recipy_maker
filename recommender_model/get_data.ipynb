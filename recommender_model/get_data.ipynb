{
 "cells": [
  {
   "cell_type": "code",
   "execution_count": 3,
   "metadata": {},
   "outputs": [],
   "source": [
    "import pandas as pd\n",
    "import sys\n",
    "sys.path.append('/home/matta/recipy_maker')\n",
    "import consume       \n",
    "\n",
    "# \n"
   ]
  },
  {
   "cell_type": "code",
   "execution_count": 2,
   "metadata": {},
   "outputs": [
    {
     "data": {
      "text/html": [
       "<div>\n",
       "<style scoped>\n",
       "    .dataframe tbody tr th:only-of-type {\n",
       "        vertical-align: middle;\n",
       "    }\n",
       "\n",
       "    .dataframe tbody tr th {\n",
       "        vertical-align: top;\n",
       "    }\n",
       "\n",
       "    .dataframe thead th {\n",
       "        text-align: right;\n",
       "    }\n",
       "</style>\n",
       "<table border=\"1\" class=\"dataframe\">\n",
       "  <thead>\n",
       "    <tr style=\"text-align: right;\">\n",
       "      <th></th>\n",
       "      <th>title</th>\n",
       "      <th>image_url</th>\n",
       "      <th>description</th>\n",
       "      <th>ingredients</th>\n",
       "      <th>instructions</th>\n",
       "      <th>json</th>\n",
       "    </tr>\n",
       "  </thead>\n",
       "  <tbody>\n",
       "    <tr>\n",
       "      <th>0</th>\n",
       "      <td>Traditional Mexican Guacamole</td>\n",
       "      <td>https://imagesvc.meredithcorp.io/v3/mm/image?u...</td>\n",
       "      <td>This guacamole is great! Whether or not you wa...</td>\n",
       "      <td>[2 avocados, peeled and pitted , 1 cup chopped...</td>\n",
       "      <td>Mash avocados in a bowl until creamy.\\nMix tom...</td>\n",
       "      <td>{'title': 'Traditional Mexican Guacamole', 'im...</td>\n",
       "    </tr>\n",
       "  </tbody>\n",
       "</table>\n",
       "</div>"
      ],
      "text/plain": [
       "                           title  \\\n",
       "0  Traditional Mexican Guacamole   \n",
       "\n",
       "                                           image_url  \\\n",
       "0  https://imagesvc.meredithcorp.io/v3/mm/image?u...   \n",
       "\n",
       "                                         description  \\\n",
       "0  This guacamole is great! Whether or not you wa...   \n",
       "\n",
       "                                         ingredients  \\\n",
       "0  [2 avocados, peeled and pitted , 1 cup chopped...   \n",
       "\n",
       "                                        instructions  \\\n",
       "0  Mash avocados in a bowl until creamy.\\nMix tom...   \n",
       "\n",
       "                                                json  \n",
       "0  {'title': 'Traditional Mexican Guacamole', 'im...  "
      ]
     },
     "execution_count": 2,
     "metadata": {},
     "output_type": "execute_result"
    }
   ],
   "source": [
    "my_data = pd.read_pickle('../Web_Scraping/df_w_json.pkl')\n",
    "\n",
    "my_data.head(1)"
   ]
  },
  {
   "cell_type": "code",
   "execution_count": 3,
   "metadata": {},
   "outputs": [
    {
     "data": {
      "text/html": [
       "<div>\n",
       "<style scoped>\n",
       "    .dataframe tbody tr th:only-of-type {\n",
       "        vertical-align: middle;\n",
       "    }\n",
       "\n",
       "    .dataframe tbody tr th {\n",
       "        vertical-align: top;\n",
       "    }\n",
       "\n",
       "    .dataframe thead th {\n",
       "        text-align: right;\n",
       "    }\n",
       "</style>\n",
       "<table border=\"1\" class=\"dataframe\">\n",
       "  <thead>\n",
       "    <tr style=\"text-align: right;\">\n",
       "      <th></th>\n",
       "      <th>title</th>\n",
       "      <th>image_url</th>\n",
       "      <th>description</th>\n",
       "      <th>ingredients</th>\n",
       "      <th>instructions</th>\n",
       "      <th>json</th>\n",
       "    </tr>\n",
       "  </thead>\n",
       "  <tbody>\n",
       "    <tr>\n",
       "      <th>150</th>\n",
       "      <td>Basic Air Fryer Hot Dogs</td>\n",
       "      <td>https://imagesvc.meredithcorp.io/v3/mm/image?u...</td>\n",
       "      <td>Perfectly crisp hot dogs and toasted buns made...</td>\n",
       "      <td>[4 hot dog buns , 4 hot dogs ]</td>\n",
       "      <td>Preheat air fryer to 390 degrees F (200 degree...</td>\n",
       "      <td>{'title': 'Basic Air Fryer Hot Dogs', 'image_u...</td>\n",
       "    </tr>\n",
       "  </tbody>\n",
       "</table>\n",
       "</div>"
      ],
      "text/plain": [
       "                        title  \\\n",
       "150  Basic Air Fryer Hot Dogs   \n",
       "\n",
       "                                             image_url  \\\n",
       "150  https://imagesvc.meredithcorp.io/v3/mm/image?u...   \n",
       "\n",
       "                                           description  \\\n",
       "150  Perfectly crisp hot dogs and toasted buns made...   \n",
       "\n",
       "                        ingredients  \\\n",
       "150  [4 hot dog buns , 4 hot dogs ]   \n",
       "\n",
       "                                          instructions  \\\n",
       "150  Preheat air fryer to 390 degrees F (200 degree...   \n",
       "\n",
       "                                                  json  \n",
       "150  {'title': 'Basic Air Fryer Hot Dogs', 'image_u...  "
      ]
     },
     "execution_count": 3,
     "metadata": {},
     "output_type": "execute_result"
    }
   ],
   "source": [
    "my_input = my_data[150:]\n",
    "my_input.head(1)\n",
    "# maybe we could/ should add a tag --- would be in scraping part.. whatever category it came from"
   ]
  },
  {
   "cell_type": "code",
   "execution_count": 4,
   "metadata": {},
   "outputs": [],
   "source": [
    "# for index,row in my_input.iterrows():\n",
    "#     title = row['title']\n",
    "#     image_url = row['image_url']\n",
    "#     description = row['description']\n",
    "#     ingredient_list = row['ingredients']\n",
    "#     instructions = row['instructions']\n",
    "#     r_api.create_recipe(title,description,ingredient_list,instructions,image_url)"
   ]
  },
  {
   "cell_type": "code",
   "execution_count": 4,
   "metadata": {},
   "outputs": [],
   "source": [
    "r_api = consume.API('admin','1477')\n"
   ]
  },
  {
   "cell_type": "code",
   "execution_count": 6,
   "metadata": {},
   "outputs": [],
   "source": [
    "# import names\n",
    "# import random\n",
    "\n",
    "# name_list = []\n",
    "\n",
    "# for _ in range(20):\n",
    "#     name = names.get_first_name()\n",
    "#     number = str(random.randint(0,100))\n",
    "#     username = name + number\n",
    "#     name_list.append(username)"
   ]
  },
  {
   "cell_type": "code",
   "execution_count": 17,
   "metadata": {},
   "outputs": [],
   "source": [
    "# user_list = []\n",
    "# for name in name_list:\n",
    "#     api_access = consume.API()\n",
    "#     email = name + \"@email.com\"\n",
    "#     email2 = name + \"@email.com\"\n",
    "#     password = \"Uns4fepassword12\"\n",
    "#     #api_access.create_user(name,email,email2,password)\n",
    "#     user_list.append({\"name\":name,\"password\":password})"
   ]
  },
  {
   "cell_type": "code",
   "execution_count": 23,
   "metadata": {},
   "outputs": [],
   "source": [
    "# import pickle\n",
    "\n",
    "# with open('user_list.pkl','wb') as f:\n",
    "#     pickle.dump(user_list,f)"
   ]
  },
  {
   "cell_type": "code",
   "execution_count": 6,
   "metadata": {},
   "outputs": [],
   "source": [
    "import pickle\n",
    "with open('user_list.pkl','rb') as f:\n",
    "    user_list = pickle.load(f)\n",
    "\n"
   ]
  },
  {
   "cell_type": "code",
   "execution_count": 7,
   "metadata": {},
   "outputs": [],
   "source": [
    "for user in user_list:\n",
    "    username = user['name']\n",
    "    password = user['password']\n",
    "    api_access = consume.API(username,password)\n",
    "    "
   ]
  },
  {
   "cell_type": "code",
   "execution_count": 9,
   "metadata": {},
   "outputs": [],
   "source": [
    "r_api = consume.API()\n",
    "recipe_list = []\n",
    "for i in range(31):\n",
    "    m_list = r_api.get_recipes(i+1)\n",
    "    for i in range(len(m_list)):\n",
    "        a = m_list[i].get('id')\n",
    "        b = m_list[i].get('favorites')\n",
    "        recipe_list.append([a,b])"
   ]
  },
  {
   "cell_type": "code",
   "execution_count": 10,
   "metadata": {},
   "outputs": [
    {
     "name": "stdout",
     "output_type": "stream",
     "text": [
      "Daniel85\n"
     ]
    },
    {
     "data": {
      "text/html": [
       "<div>\n",
       "<style scoped>\n",
       "    .dataframe tbody tr th:only-of-type {\n",
       "        vertical-align: middle;\n",
       "    }\n",
       "\n",
       "    .dataframe tbody tr th {\n",
       "        vertical-align: top;\n",
       "    }\n",
       "\n",
       "    .dataframe thead th {\n",
       "        text-align: right;\n",
       "    }\n",
       "</style>\n",
       "<table border=\"1\" class=\"dataframe\">\n",
       "  <thead>\n",
       "    <tr style=\"text-align: right;\">\n",
       "      <th></th>\n",
       "      <th>id</th>\n",
       "      <th>favorites</th>\n",
       "    </tr>\n",
       "  </thead>\n",
       "  <tbody>\n",
       "    <tr>\n",
       "      <th>0</th>\n",
       "      <td>1</td>\n",
       "      <td>1</td>\n",
       "    </tr>\n",
       "    <tr>\n",
       "      <th>0</th>\n",
       "      <td>1</td>\n",
       "      <td>14</td>\n",
       "    </tr>\n",
       "    <tr>\n",
       "      <th>0</th>\n",
       "      <td>1</td>\n",
       "      <td>15</td>\n",
       "    </tr>\n",
       "    <tr>\n",
       "      <th>0</th>\n",
       "      <td>1</td>\n",
       "      <td>36</td>\n",
       "    </tr>\n",
       "    <tr>\n",
       "      <th>1</th>\n",
       "      <td>3</td>\n",
       "      <td>1</td>\n",
       "    </tr>\n",
       "  </tbody>\n",
       "</table>\n",
       "</div>"
      ],
      "text/plain": [
       "   id favorites\n",
       "0   1         1\n",
       "0   1        14\n",
       "0   1        15\n",
       "0   1        36\n",
       "1   3         1"
      ]
     },
     "execution_count": 10,
     "metadata": {},
     "output_type": "execute_result"
    }
   ],
   "source": [
    "my_recipe_df = pd.DataFrame(recipe_list,columns=['id','favorites']).explode('favorites')\n",
    "\n",
    "username = user_list[0]['name']\n",
    "print(username)\n",
    "password = user_list[0]['password']\n",
    "api_access = consume.API(username,password)\n",
    "\n",
    "my_recipe_df.head(5)"
   ]
  },
  {
   "cell_type": "code",
   "execution_count": 25,
   "metadata": {},
   "outputs": [
    {
     "data": {
      "text/plain": [
       "'Recipe 1 ADDED to favorites'"
      ]
     },
     "execution_count": 25,
     "metadata": {},
     "output_type": "execute_result"
    }
   ],
   "source": [
    "api_access.favorite_recipe(1)\n"
   ]
  },
  {
   "cell_type": "code",
   "execution_count": 21,
   "metadata": {},
   "outputs": [],
   "source": [
    "for id_ in my_recipe_df['id']:\n",
    "    api_access.favorite_recipe(id_)\n"
   ]
  },
  {
   "cell_type": "code",
   "execution_count": 25,
   "metadata": {},
   "outputs": [],
   "source": [
    "df_recipe_crosstab = pd.crosstab(index=my_recipe_df['id'],columns=my_recipe_df['favorites'])"
   ]
  },
  {
   "cell_type": "code",
   "execution_count": 35,
   "metadata": {},
   "outputs": [
    {
     "data": {
      "text/html": [
       "<div>\n",
       "<style scoped>\n",
       "    .dataframe tbody tr th:only-of-type {\n",
       "        vertical-align: middle;\n",
       "    }\n",
       "\n",
       "    .dataframe tbody tr th {\n",
       "        vertical-align: top;\n",
       "    }\n",
       "\n",
       "    .dataframe thead th {\n",
       "        text-align: right;\n",
       "    }\n",
       "</style>\n",
       "<table border=\"1\" class=\"dataframe\">\n",
       "  <thead>\n",
       "    <tr style=\"text-align: right;\">\n",
       "      <th>favorites</th>\n",
       "      <th>1</th>\n",
       "      <th>3</th>\n",
       "      <th>13</th>\n",
       "      <th>14</th>\n",
       "      <th>15</th>\n",
       "      <th>36</th>\n",
       "    </tr>\n",
       "    <tr>\n",
       "      <th>id</th>\n",
       "      <th></th>\n",
       "      <th></th>\n",
       "      <th></th>\n",
       "      <th></th>\n",
       "      <th></th>\n",
       "      <th></th>\n",
       "    </tr>\n",
       "  </thead>\n",
       "  <tbody>\n",
       "    <tr>\n",
       "      <th>1</th>\n",
       "      <td>1</td>\n",
       "      <td>0</td>\n",
       "      <td>0</td>\n",
       "      <td>1</td>\n",
       "      <td>1</td>\n",
       "      <td>1</td>\n",
       "    </tr>\n",
       "    <tr>\n",
       "      <th>3</th>\n",
       "      <td>1</td>\n",
       "      <td>0</td>\n",
       "      <td>1</td>\n",
       "      <td>0</td>\n",
       "      <td>0</td>\n",
       "      <td>1</td>\n",
       "    </tr>\n",
       "    <tr>\n",
       "      <th>4</th>\n",
       "      <td>1</td>\n",
       "      <td>1</td>\n",
       "      <td>1</td>\n",
       "      <td>0</td>\n",
       "      <td>1</td>\n",
       "      <td>1</td>\n",
       "    </tr>\n",
       "    <tr>\n",
       "      <th>5</th>\n",
       "      <td>0</td>\n",
       "      <td>0</td>\n",
       "      <td>1</td>\n",
       "      <td>1</td>\n",
       "      <td>0</td>\n",
       "      <td>1</td>\n",
       "    </tr>\n",
       "    <tr>\n",
       "      <th>6</th>\n",
       "      <td>1</td>\n",
       "      <td>0</td>\n",
       "      <td>1</td>\n",
       "      <td>0</td>\n",
       "      <td>1</td>\n",
       "      <td>1</td>\n",
       "    </tr>\n",
       "    <tr>\n",
       "      <th>...</th>\n",
       "      <td>...</td>\n",
       "      <td>...</td>\n",
       "      <td>...</td>\n",
       "      <td>...</td>\n",
       "      <td>...</td>\n",
       "      <td>...</td>\n",
       "    </tr>\n",
       "    <tr>\n",
       "      <th>617</th>\n",
       "      <td>0</td>\n",
       "      <td>0</td>\n",
       "      <td>0</td>\n",
       "      <td>0</td>\n",
       "      <td>0</td>\n",
       "      <td>1</td>\n",
       "    </tr>\n",
       "    <tr>\n",
       "      <th>618</th>\n",
       "      <td>0</td>\n",
       "      <td>0</td>\n",
       "      <td>0</td>\n",
       "      <td>0</td>\n",
       "      <td>0</td>\n",
       "      <td>1</td>\n",
       "    </tr>\n",
       "    <tr>\n",
       "      <th>619</th>\n",
       "      <td>0</td>\n",
       "      <td>0</td>\n",
       "      <td>0</td>\n",
       "      <td>0</td>\n",
       "      <td>0</td>\n",
       "      <td>1</td>\n",
       "    </tr>\n",
       "    <tr>\n",
       "      <th>620</th>\n",
       "      <td>0</td>\n",
       "      <td>0</td>\n",
       "      <td>0</td>\n",
       "      <td>0</td>\n",
       "      <td>0</td>\n",
       "      <td>1</td>\n",
       "    </tr>\n",
       "    <tr>\n",
       "      <th>621</th>\n",
       "      <td>0</td>\n",
       "      <td>0</td>\n",
       "      <td>0</td>\n",
       "      <td>0</td>\n",
       "      <td>0</td>\n",
       "      <td>1</td>\n",
       "    </tr>\n",
       "  </tbody>\n",
       "</table>\n",
       "<p>620 rows × 6 columns</p>\n",
       "</div>"
      ],
      "text/plain": [
       "favorites  1   3   13  14  15  36\n",
       "id                               \n",
       "1           1   0   0   1   1   1\n",
       "3           1   0   1   0   0   1\n",
       "4           1   1   1   0   1   1\n",
       "5           0   0   1   1   0   1\n",
       "6           1   0   1   0   1   1\n",
       "..         ..  ..  ..  ..  ..  ..\n",
       "617         0   0   0   0   0   1\n",
       "618         0   0   0   0   0   1\n",
       "619         0   0   0   0   0   1\n",
       "620         0   0   0   0   0   1\n",
       "621         0   0   0   0   0   1\n",
       "\n",
       "[620 rows x 6 columns]"
      ]
     },
     "execution_count": 35,
     "metadata": {},
     "output_type": "execute_result"
    }
   ],
   "source": [
    "df_recipe_crosstab"
   ]
  },
  {
   "cell_type": "code",
   "execution_count": 27,
   "metadata": {},
   "outputs": [],
   "source": [
    "matrix = df_recipe_crosstab.to_numpy()"
   ]
  },
  {
   "cell_type": "code",
   "execution_count": 28,
   "metadata": {},
   "outputs": [
    {
     "data": {
      "text/plain": [
       "array([[1, 0, 0, 1, 1, 1],\n",
       "       [1, 0, 1, 0, 0, 1],\n",
       "       [1, 1, 1, 0, 1, 1],\n",
       "       ...,\n",
       "       [0, 0, 0, 0, 0, 1],\n",
       "       [0, 0, 0, 0, 0, 1],\n",
       "       [0, 0, 0, 0, 0, 1]])"
      ]
     },
     "execution_count": 28,
     "metadata": {},
     "output_type": "execute_result"
    }
   ],
   "source": [
    "matrix"
   ]
  },
  {
   "cell_type": "code",
   "execution_count": 29,
   "metadata": {},
   "outputs": [],
   "source": [
    "from sklearn.neighbors import NearestNeighbors\n",
    "knn_model = NearestNeighbors(metric='cosine',algorithm='brute')\n",
    "fit_model = knn_model.fit(matrix)"
   ]
  },
  {
   "cell_type": "code",
   "execution_count": 49,
   "metadata": {},
   "outputs": [
    {
     "data": {
      "text/plain": [
       "[1, 3, 4, 6, 9, 12, 15, 18, 21, 24, 27, 30, 33, 36, 39, 119]"
      ]
     },
     "execution_count": 49,
     "metadata": {},
     "output_type": "execute_result"
    }
   ],
   "source": [
    "def get_user_recipes(user_id):\n",
    "    return df_recipe_crosstab.index[df_recipe_crosstab[user_id]==True].tolist()\n",
    "\n",
    "get_user_recipes(1)"
   ]
  },
  {
   "cell_type": "code",
   "execution_count": null,
   "metadata": {},
   "outputs": [],
   "source": [
    "for recipe_id in get_user_recipes(1):\n",
    "    "
   ]
  },
  {
   "cell_type": "code",
   "execution_count": 54,
   "metadata": {},
   "outputs": [
    {
     "data": {
      "text/plain": [
       "array([[1, 0, 0, 1, 1, 1]])"
      ]
     },
     "execution_count": 54,
     "metadata": {},
     "output_type": "execute_result"
    }
   ],
   "source": [
    "df_recipe_crosstab.loc[1].values.reshape(1,-1)"
   ]
  },
  {
   "cell_type": "code",
   "execution_count": 37,
   "metadata": {},
   "outputs": [],
   "source": [
    "distances,indices = fit_model.kneighbors(input_,n_neighbors=5)"
   ]
  },
  {
   "cell_type": "code",
   "execution_count": null,
   "metadata": {},
   "outputs": [],
   "source": [
    "# 1\n",
    "# Compare most similar users to a selected user\n",
    "# then return the most frequent recipes liked by other users which arent already favorite by selected user\n",
    "\n",
    "# 2\n",
    "# Compare most simliarly liked recipes for all recipes given a selected users\n",
    "# Return most similar recipes which arent already favorited by a selected user"
   ]
  },
  {
   "cell_type": "code",
   "execution_count": null,
   "metadata": {},
   "outputs": [],
   "source": []
  },
  {
   "cell_type": "code",
   "execution_count": null,
   "metadata": {},
   "outputs": [],
   "source": []
  }
 ],
 "metadata": {
  "kernelspec": {
   "display_name": "Python 3.10.4 ('mydjango')",
   "language": "python",
   "name": "python3"
  },
  "language_info": {
   "codemirror_mode": {
    "name": "ipython",
    "version": 3
   },
   "file_extension": ".py",
   "mimetype": "text/x-python",
   "name": "python",
   "nbconvert_exporter": "python",
   "pygments_lexer": "ipython3",
   "version": "3.10.4"
  },
  "orig_nbformat": 4,
  "vscode": {
   "interpreter": {
    "hash": "b048499cf207894805d1d0ebd2fb83b48e98fa56ebd88512b6e2da90101b5919"
   }
  }
 },
 "nbformat": 4,
 "nbformat_minor": 2
}
