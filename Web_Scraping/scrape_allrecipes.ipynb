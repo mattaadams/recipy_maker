{
 "cells": [
  {
   "cell_type": "code",
   "execution_count": 3,
   "metadata": {},
   "outputs": [
    {
     "data": {
      "text/plain": [
       "'/home/matta/recipy_maker/Web_Scraping'"
      ]
     },
     "execution_count": 3,
     "metadata": {},
     "output_type": "execute_result"
    }
   ],
   "source": [
    "import csv\n",
    "import pandas as pd\n",
    "from bs4 import BeautifulSoup\n",
    "import requests\n",
    "import re\n",
    "import numpy as np\n",
    "from os import path\n",
    "\n",
    "os.getcwd()"
   ]
  },
  {
   "cell_type": "code",
   "execution_count": 40,
   "metadata": {},
   "outputs": [],
   "source": [
    "MAIN_STRING = \"carouselNav__list elementFont__resetList recipeCarousel__list\"  # class for main recipe category page navlist\n",
    "CAT_STRING = \"category-page-list-content category-page-list-content__recipe-card karma-main-column\"  # Class for category page div\n",
    "CARDS_STRING = \"card__titleLink manual-link-behavior elementFont__title margin-8-bottom\"  # Class for most popular recipe cards\n",
    "\n",
    "def get_links():\n",
    "    if path.exists('list_w_img.csv'):\n",
    "        df = pd.read_csv('list_w_img.csv')\n",
    "    else:\n",
    "        source = requests.get('https://www.allrecipes.com/recipes/').text\n",
    "        soup = BeautifulSoup(source, 'lxml')\n",
    "        recipe_list = soup.find('ul', class_=MAIN_STRING)\n",
    "        links = [a['href'] for a in recipe_list.find_all('a', href=True)]\n",
    "        pop_recipes = []\n",
    "        for link in links:\n",
    "            category = link.split('/')[5]\n",
    "            recipe_category = requests.get(link).text\n",
    "            cat_soup = BeautifulSoup(recipe_category, 'lxml')  # category page (cat_soup)\n",
    "            category_lists = cat_soup.find_all('div', class_=CAT_STRING)  \n",
    "            for lst in category_lists:\n",
    "                for a in lst.find_all('a', class_=CARDS_STRING, href=True):\n",
    "                    if re.search('https://www.allrecipes.com/recipe/.*', a['href']):\n",
    "                        pop_recipes.append([a['href'], a.div['data-src'],category])\n",
    "        \n",
    "\n",
    "\n",
    "        df = pd.DataFrame(pop_recipes, columns=[\"link\",\"image_url\",\"category\"])\n",
    "        df.to_csv('list_w_img.csv', index=False)\n",
    "    return df"
   ]
  },
  {
   "cell_type": "code",
   "execution_count": 41,
   "metadata": {},
   "outputs": [
    {
     "data": {
      "text/plain": [
       "(659, 3)"
      ]
     },
     "execution_count": 41,
     "metadata": {},
     "output_type": "execute_result"
    }
   ],
   "source": [
    "df = get_links()\n",
    "df = df.drop_duplicates()\n",
    "df.shape\n"
   ]
  },
  {
   "cell_type": "code",
   "execution_count": 26,
   "metadata": {},
   "outputs": [],
   "source": [
    "# Runs ~2 minutes\n",
    "\n",
    "recipe_info = []\n",
    "for index,row in df.iterrows():\n",
    "    link = row['link']\n",
    "    image_url = row['image_url']\n",
    "    source = requests.get(link).text\n",
    "    soup = BeautifulSoup(source, 'lxml')\n",
    "    try:\n",
    "        title = soup.find('h1').text\n",
    "        description = soup.find('p').text\n",
    "        rating = soup.find('span',class_=\"review-star-text visually-hidden\").text\n",
    "\n",
    "        ingredient_list = soup.find('ul',class_ = \"ingredients-section\")\n",
    "        ingredients = []\n",
    "        for ingredient in ingredient_list.find_all('span',class_=\"ingredients-item-name elementFont__body\"):\n",
    "            ingredients.append(ingredient.text)\n",
    "\n",
    "        instruction_list = soup.find('ul',class_ = \"instructions-section\")\n",
    "        instructions = []\n",
    "        for instruction in instruction_list.find_all('p'):\n",
    "            instructions.append(instruction.text)\n",
    "        \n",
    "        recipe_info.append([link,title,image_url,description,rating,ingredients,instructions])\n",
    "    except:\n",
    "        continue\n",
    "\n",
    "df2 =  pd.DataFrame(recipe_info, columns=[\"link\",\"title\",\"image_url\",\"description\",\"rating\",\"ingredients\",\"instructions\"])\n"
   ]
  },
  {
   "cell_type": "code",
   "execution_count": null,
   "metadata": {},
   "outputs": [],
   "source": [
    "df2"
   ]
  },
  {
   "cell_type": "code",
   "execution_count": 20,
   "metadata": {},
   "outputs": [],
   "source": [
    "df2.to_pickle('full_data_with_image.pkl')"
   ]
  }
 ],
 "metadata": {
  "interpreter": {
   "hash": "dfe8b505a3b2573ce87429afee385bea41459b2118ca9b9750f48f1c9509c35d"
  },
  "kernelspec": {
   "display_name": "Python 3.8.3 ('base')",
   "language": "python",
   "name": "python3"
  },
  "language_info": {
   "codemirror_mode": {
    "name": "ipython",
    "version": 3
   },
   "file_extension": ".py",
   "mimetype": "text/x-python",
   "name": "python",
   "nbconvert_exporter": "python",
   "pygments_lexer": "ipython3",
   "version": "3.8.3"
  },
  "orig_nbformat": 4
 },
 "nbformat": 4,
 "nbformat_minor": 2
}
