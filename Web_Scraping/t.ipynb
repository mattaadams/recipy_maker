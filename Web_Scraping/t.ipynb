{
 "cells": [
  {
   "cell_type": "code",
   "execution_count": 96,
   "metadata": {},
   "outputs": [],
   "source": [
    "import sys\n",
    "import pandas as pd"
   ]
  },
  {
   "cell_type": "code",
   "execution_count": 97,
   "metadata": {},
   "outputs": [],
   "source": [
    "df = pd.read_pickle('full_data.pkl')"
   ]
  },
  {
   "cell_type": "code",
   "execution_count": 98,
   "metadata": {},
   "outputs": [
    {
     "data": {
      "text/html": [
       "<div>\n",
       "<style scoped>\n",
       "    .dataframe tbody tr th:only-of-type {\n",
       "        vertical-align: middle;\n",
       "    }\n",
       "\n",
       "    .dataframe tbody tr th {\n",
       "        vertical-align: top;\n",
       "    }\n",
       "\n",
       "    .dataframe thead th {\n",
       "        text-align: right;\n",
       "    }\n",
       "</style>\n",
       "<table border=\"1\" class=\"dataframe\">\n",
       "  <thead>\n",
       "    <tr style=\"text-align: right;\">\n",
       "      <th></th>\n",
       "      <th>title</th>\n",
       "      <th>description</th>\n",
       "      <th>ingredients</th>\n",
       "      <th>instructions</th>\n",
       "    </tr>\n",
       "  </thead>\n",
       "  <tbody>\n",
       "    <tr>\n",
       "      <th>0</th>\n",
       "      <td>Traditional Mexican Guacamole</td>\n",
       "      <td>This guacamole is great! Whether or not you wa...</td>\n",
       "      <td>[2 avocados, peeled and pitted , 1 cup chopped...</td>\n",
       "      <td>[Mash avocados in a bowl until creamy., Mix to...</td>\n",
       "    </tr>\n",
       "    <tr>\n",
       "      <th>1</th>\n",
       "      <td>Creamy Dill Cucumber Toasties</td>\n",
       "      <td>I got this recipe years ago from a friend of a...</td>\n",
       "      <td>[1 (8 ounce) package cream cheese, softened , ...</td>\n",
       "      <td>[In a medium bowl, mix together cream cheese, ...</td>\n",
       "    </tr>\n",
       "    <tr>\n",
       "      <th>2</th>\n",
       "      <td>Buffalo Chicken Wings in a Jar</td>\n",
       "      <td>This fun-sized take on the game day appetizer ...</td>\n",
       "      <td>[1 ½ pounds bone-in, skin-on chicken thighs , ...</td>\n",
       "      <td>[Heat a dry saucepan over high heat. Place thi...</td>\n",
       "    </tr>\n",
       "    <tr>\n",
       "      <th>3</th>\n",
       "      <td>Fully Loaded Deviled Eggs</td>\n",
       "      <td>My children and husband go nuts over these. I ...</td>\n",
       "      <td>[12 eggs , 1 teaspoon vegetable oil , 1 small ...</td>\n",
       "      <td>[Place eggs into a large pot and cover with li...</td>\n",
       "    </tr>\n",
       "    <tr>\n",
       "      <th>4</th>\n",
       "      <td>Strawberry Bruschetta</td>\n",
       "      <td>This is a delicious variation of the popular t...</td>\n",
       "      <td>[24 slices French baguette , 1 tablespoon butt...</td>\n",
       "      <td>[Preheat your oven's broiler. Spread a thin la...</td>\n",
       "    </tr>\n",
       "    <tr>\n",
       "      <th>...</th>\n",
       "      <td>...</td>\n",
       "      <td>...</td>\n",
       "      <td>...</td>\n",
       "      <td>...</td>\n",
       "    </tr>\n",
       "    <tr>\n",
       "      <th>2334</th>\n",
       "      <td>Maple Salmon</td>\n",
       "      <td>This maple glazed salmon is delicious and very...</td>\n",
       "      <td>[¼ cup maple syrup , 2 tablespoons soy sauce ,...</td>\n",
       "      <td>[Stir together maple syrup, soy sauce, garlic,...</td>\n",
       "    </tr>\n",
       "    <tr>\n",
       "      <th>2335</th>\n",
       "      <td>Feta Eggs</td>\n",
       "      <td>A very TASTY way to add zip to boring scramble...</td>\n",
       "      <td>[1 tablespoon butter , ¼ cup chopped onion , 4...</td>\n",
       "      <td>[Melt butter in a skillet over medium heat. Sa...</td>\n",
       "    </tr>\n",
       "    <tr>\n",
       "      <th>2336</th>\n",
       "      <td>Chef John's Baba Ghanoush</td>\n",
       "      <td>No matter what you're grilling this summer, ch...</td>\n",
       "      <td>[4 large Italian eggplants , 2 cloves crushed ...</td>\n",
       "      <td>[Preheat an outdoor grill for medium-high heat...</td>\n",
       "    </tr>\n",
       "    <tr>\n",
       "      <th>2337</th>\n",
       "      <td>Jamie's Sweet and Easy Corn on the Cob</td>\n",
       "      <td>My mother-in-law gave me this quick and easy r...</td>\n",
       "      <td>[2 tablespoons white sugar , 1 tablespoon lemo...</td>\n",
       "      <td>[Fill a large pot about 3/4 full of water and ...</td>\n",
       "    </tr>\n",
       "    <tr>\n",
       "      <th>2338</th>\n",
       "      <td>Sixteenth Century Orange Chicken</td>\n",
       "      <td>This recipe was adapted by me from a housewife...</td>\n",
       "      <td>[2 ½ pounds skinless, boneless chicken breast ...</td>\n",
       "      <td>[Place chicken stock in a large saucepan over ...</td>\n",
       "    </tr>\n",
       "  </tbody>\n",
       "</table>\n",
       "<p>2339 rows × 4 columns</p>\n",
       "</div>"
      ],
      "text/plain": [
       "                                       title  \\\n",
       "0              Traditional Mexican Guacamole   \n",
       "1              Creamy Dill Cucumber Toasties   \n",
       "2             Buffalo Chicken Wings in a Jar   \n",
       "3                  Fully Loaded Deviled Eggs   \n",
       "4                      Strawberry Bruschetta   \n",
       "...                                      ...   \n",
       "2334                            Maple Salmon   \n",
       "2335                               Feta Eggs   \n",
       "2336               Chef John's Baba Ghanoush   \n",
       "2337  Jamie's Sweet and Easy Corn on the Cob   \n",
       "2338        Sixteenth Century Orange Chicken   \n",
       "\n",
       "                                            description  \\\n",
       "0     This guacamole is great! Whether or not you wa...   \n",
       "1     I got this recipe years ago from a friend of a...   \n",
       "2     This fun-sized take on the game day appetizer ...   \n",
       "3     My children and husband go nuts over these. I ...   \n",
       "4     This is a delicious variation of the popular t...   \n",
       "...                                                 ...   \n",
       "2334  This maple glazed salmon is delicious and very...   \n",
       "2335  A very TASTY way to add zip to boring scramble...   \n",
       "2336  No matter what you're grilling this summer, ch...   \n",
       "2337  My mother-in-law gave me this quick and easy r...   \n",
       "2338  This recipe was adapted by me from a housewife...   \n",
       "\n",
       "                                            ingredients  \\\n",
       "0     [2 avocados, peeled and pitted , 1 cup chopped...   \n",
       "1     [1 (8 ounce) package cream cheese, softened , ...   \n",
       "2     [1 ½ pounds bone-in, skin-on chicken thighs , ...   \n",
       "3     [12 eggs , 1 teaspoon vegetable oil , 1 small ...   \n",
       "4     [24 slices French baguette , 1 tablespoon butt...   \n",
       "...                                                 ...   \n",
       "2334  [¼ cup maple syrup , 2 tablespoons soy sauce ,...   \n",
       "2335  [1 tablespoon butter , ¼ cup chopped onion , 4...   \n",
       "2336  [4 large Italian eggplants , 2 cloves crushed ...   \n",
       "2337  [2 tablespoons white sugar , 1 tablespoon lemo...   \n",
       "2338  [2 ½ pounds skinless, boneless chicken breast ...   \n",
       "\n",
       "                                           instructions  \n",
       "0     [Mash avocados in a bowl until creamy., Mix to...  \n",
       "1     [In a medium bowl, mix together cream cheese, ...  \n",
       "2     [Heat a dry saucepan over high heat. Place thi...  \n",
       "3     [Place eggs into a large pot and cover with li...  \n",
       "4     [Preheat your oven's broiler. Spread a thin la...  \n",
       "...                                                 ...  \n",
       "2334  [Stir together maple syrup, soy sauce, garlic,...  \n",
       "2335  [Melt butter in a skillet over medium heat. Sa...  \n",
       "2336  [Preheat an outdoor grill for medium-high heat...  \n",
       "2337  [Fill a large pot about 3/4 full of water and ...  \n",
       "2338  [Place chicken stock in a large saucepan over ...  \n",
       "\n",
       "[2339 rows x 4 columns]"
      ]
     },
     "execution_count": 98,
     "metadata": {},
     "output_type": "execute_result"
    }
   ],
   "source": [
    "df_sub = df[['Title','Description','Ingredients','Instructions']]\n",
    "df_sub = df_sub.rename(columns={'Title':'title','Description':'description','Ingredients':'ingredients','Instructions':'instructions'})\n",
    "df_sub"
   ]
  },
  {
   "cell_type": "code",
   "execution_count": 99,
   "metadata": {},
   "outputs": [
    {
     "data": {
      "text/html": [
       "<div>\n",
       "<style scoped>\n",
       "    .dataframe tbody tr th:only-of-type {\n",
       "        vertical-align: middle;\n",
       "    }\n",
       "\n",
       "    .dataframe tbody tr th {\n",
       "        vertical-align: top;\n",
       "    }\n",
       "\n",
       "    .dataframe thead th {\n",
       "        text-align: right;\n",
       "    }\n",
       "</style>\n",
       "<table border=\"1\" class=\"dataframe\">\n",
       "  <thead>\n",
       "    <tr style=\"text-align: right;\">\n",
       "      <th></th>\n",
       "      <th>title</th>\n",
       "      <th>description</th>\n",
       "      <th>ingredients</th>\n",
       "      <th>instructions</th>\n",
       "    </tr>\n",
       "  </thead>\n",
       "  <tbody>\n",
       "    <tr>\n",
       "      <th>0</th>\n",
       "      <td>Traditional Mexican Guacamole</td>\n",
       "      <td>This guacamole is great! Whether or not you wa...</td>\n",
       "      <td>[2 avocados, peeled and pitted , 1 cup chopped...</td>\n",
       "      <td>[Mash avocados in a bowl until creamy., Mix to...</td>\n",
       "    </tr>\n",
       "  </tbody>\n",
       "</table>\n",
       "</div>"
      ],
      "text/plain": [
       "                           title  \\\n",
       "0  Traditional Mexican Guacamole   \n",
       "\n",
       "                                         description  \\\n",
       "0  This guacamole is great! Whether or not you wa...   \n",
       "\n",
       "                                         ingredients  \\\n",
       "0  [2 avocados, peeled and pitted , 1 cup chopped...   \n",
       "\n",
       "                                        instructions  \n",
       "0  [Mash avocados in a bowl until creamy., Mix to...  "
      ]
     },
     "execution_count": 99,
     "metadata": {},
     "output_type": "execute_result"
    }
   ],
   "source": [
    "df_subs = df_sub.head(1)\n",
    "\n",
    "df_subs"
   ]
  },
  {
   "cell_type": "code",
   "execution_count": 102,
   "metadata": {},
   "outputs": [
    {
     "ename": "AttributeError",
     "evalue": "'dict' object has no attribute 'as_str'",
     "output_type": "error",
     "traceback": [
      "\u001b[0;31m---------------------------------------------------------------------------\u001b[0m",
      "\u001b[0;31mAttributeError\u001b[0m                            Traceback (most recent call last)",
      "\u001b[1;32m/home/matta/recipy_maker/Web_Scraping/t.ipynb Cell 5'\u001b[0m in \u001b[0;36m<cell line: 1>\u001b[0;34m()\u001b[0m\n\u001b[0;32m----> <a href='vscode-notebook-cell://wsl%2Bubuntu-20.04/home/matta/recipy_maker/Web_Scraping/t.ipynb#ch0000007vscode-remote?line=0'>1</a>\u001b[0m [\u001b[39mprint\u001b[39m({\n\u001b[1;32m      <a href='vscode-notebook-cell://wsl%2Bubuntu-20.04/home/matta/recipy_maker/Web_Scraping/t.ipynb#ch0000007vscode-remote?line=1'>2</a>\u001b[0m    \u001b[39m\"\u001b[39m\u001b[39mtitle\u001b[39m\u001b[39m\"\u001b[39m: row[\u001b[39m'\u001b[39m\u001b[39mtitle\u001b[39m\u001b[39m'\u001b[39m],\n\u001b[1;32m      <a href='vscode-notebook-cell://wsl%2Bubuntu-20.04/home/matta/recipy_maker/Web_Scraping/t.ipynb#ch0000007vscode-remote?line=2'>3</a>\u001b[0m    \u001b[39m\"\u001b[39m\u001b[39mdescription\u001b[39m\u001b[39m\"\u001b[39m: row[\u001b[39m'\u001b[39m\u001b[39mdescription\u001b[39m\u001b[39m'\u001b[39m],\n\u001b[1;32m      <a href='vscode-notebook-cell://wsl%2Bubuntu-20.04/home/matta/recipy_maker/Web_Scraping/t.ipynb#ch0000007vscode-remote?line=3'>4</a>\u001b[0m    \u001b[39m\"\u001b[39m\u001b[39mingredients\u001b[39m\u001b[39m\"\u001b[39m:[{\n\u001b[1;32m      <a href='vscode-notebook-cell://wsl%2Bubuntu-20.04/home/matta/recipy_maker/Web_Scraping/t.ipynb#ch0000007vscode-remote?line=4'>5</a>\u001b[0m       \u001b[39m\"\u001b[39m\u001b[39mname\u001b[39m\u001b[39m\"\u001b[39m: ingredient,\n\u001b[1;32m      <a href='vscode-notebook-cell://wsl%2Bubuntu-20.04/home/matta/recipy_maker/Web_Scraping/t.ipynb#ch0000007vscode-remote?line=5'>6</a>\u001b[0m    } \u001b[39mfor\u001b[39;00m ingredient \u001b[39min\u001b[39;00m row[\u001b[39m'\u001b[39m\u001b[39mingredients\u001b[39m\u001b[39m'\u001b[39m]],\n\u001b[1;32m      <a href='vscode-notebook-cell://wsl%2Bubuntu-20.04/home/matta/recipy_maker/Web_Scraping/t.ipynb#ch0000007vscode-remote?line=6'>7</a>\u001b[0m    \u001b[39m\"\u001b[39m\u001b[39minstructions\u001b[39m\u001b[39m\"\u001b[39m: row[\u001b[39m'\u001b[39m\u001b[39minstructions\u001b[39m\u001b[39m'\u001b[39m]\n\u001b[1;32m      <a href='vscode-notebook-cell://wsl%2Bubuntu-20.04/home/matta/recipy_maker/Web_Scraping/t.ipynb#ch0000007vscode-remote?line=7'>8</a>\u001b[0m }\u001b[39m.\u001b[39mas_str()) \u001b[39mfor\u001b[39;00m _, row \u001b[39min\u001b[39;00m df_subs\u001b[39m.\u001b[39miterrows()]\n",
      "\u001b[1;32m/home/matta/recipy_maker/Web_Scraping/t.ipynb Cell 5'\u001b[0m in \u001b[0;36m<listcomp>\u001b[0;34m(.0)\u001b[0m\n\u001b[0;32m----> <a href='vscode-notebook-cell://wsl%2Bubuntu-20.04/home/matta/recipy_maker/Web_Scraping/t.ipynb#ch0000007vscode-remote?line=0'>1</a>\u001b[0m [\u001b[39mprint\u001b[39m({\n\u001b[1;32m      <a href='vscode-notebook-cell://wsl%2Bubuntu-20.04/home/matta/recipy_maker/Web_Scraping/t.ipynb#ch0000007vscode-remote?line=1'>2</a>\u001b[0m    \u001b[39m\"\u001b[39;49m\u001b[39mtitle\u001b[39;49m\u001b[39m\"\u001b[39;49m: row[\u001b[39m'\u001b[39;49m\u001b[39mtitle\u001b[39;49m\u001b[39m'\u001b[39;49m],\n\u001b[1;32m      <a href='vscode-notebook-cell://wsl%2Bubuntu-20.04/home/matta/recipy_maker/Web_Scraping/t.ipynb#ch0000007vscode-remote?line=2'>3</a>\u001b[0m    \u001b[39m\"\u001b[39;49m\u001b[39mdescription\u001b[39;49m\u001b[39m\"\u001b[39;49m: row[\u001b[39m'\u001b[39;49m\u001b[39mdescription\u001b[39;49m\u001b[39m'\u001b[39;49m],\n\u001b[1;32m      <a href='vscode-notebook-cell://wsl%2Bubuntu-20.04/home/matta/recipy_maker/Web_Scraping/t.ipynb#ch0000007vscode-remote?line=3'>4</a>\u001b[0m    \u001b[39m\"\u001b[39;49m\u001b[39mingredients\u001b[39;49m\u001b[39m\"\u001b[39;49m:[{\n\u001b[1;32m      <a href='vscode-notebook-cell://wsl%2Bubuntu-20.04/home/matta/recipy_maker/Web_Scraping/t.ipynb#ch0000007vscode-remote?line=4'>5</a>\u001b[0m       \u001b[39m\"\u001b[39;49m\u001b[39mname\u001b[39;49m\u001b[39m\"\u001b[39;49m: ingredient,\n\u001b[1;32m      <a href='vscode-notebook-cell://wsl%2Bubuntu-20.04/home/matta/recipy_maker/Web_Scraping/t.ipynb#ch0000007vscode-remote?line=5'>6</a>\u001b[0m    } \u001b[39mfor\u001b[39;49;00m ingredient \u001b[39min\u001b[39;49;00m row[\u001b[39m'\u001b[39;49m\u001b[39mingredients\u001b[39;49m\u001b[39m'\u001b[39;49m]],\n\u001b[1;32m      <a href='vscode-notebook-cell://wsl%2Bubuntu-20.04/home/matta/recipy_maker/Web_Scraping/t.ipynb#ch0000007vscode-remote?line=6'>7</a>\u001b[0m    \u001b[39m\"\u001b[39;49m\u001b[39minstructions\u001b[39;49m\u001b[39m\"\u001b[39;49m: row[\u001b[39m'\u001b[39;49m\u001b[39minstructions\u001b[39;49m\u001b[39m'\u001b[39;49m]\n\u001b[1;32m      <a href='vscode-notebook-cell://wsl%2Bubuntu-20.04/home/matta/recipy_maker/Web_Scraping/t.ipynb#ch0000007vscode-remote?line=7'>8</a>\u001b[0m }\u001b[39m.\u001b[39;49mas_str()) \u001b[39mfor\u001b[39;00m _, row \u001b[39min\u001b[39;00m df_subs\u001b[39m.\u001b[39miterrows()]\n",
      "\u001b[0;31mAttributeError\u001b[0m: 'dict' object has no attribute 'as_str'"
     ]
    }
   ],
   "source": [
    "[print({\n",
    "   \"title\": row['title'],\n",
    "   \"description\": row['description'],\n",
    "   \"ingredients\":[{\n",
    "      \"name\": ingredient,\n",
    "   } for ingredient in row['ingredients']],\n",
    "   \"instructions\": row['instructions']\n",
    "}) for _, row in df_subs.iterrows()]"
   ]
  },
  {
   "cell_type": "code",
   "execution_count": 106,
   "metadata": {},
   "outputs": [
    {
     "data": {
      "text/plain": [
       "['{\"title\": \"Traditional Mexican Guacamole\", \"description\": \"This guacamole is great! Whether or not you want it spicy, this guacamole is a dip to die for! \", \"ingredients\": [{\"name\": \"2 avocados, peeled and pitted \", \"recipe\": \"Traditional Mexican Guacamole\"}, {\"name\": \"1 cup chopped tomatoes \", \"recipe\": \"Traditional Mexican Guacamole\"}, {\"name\": \"\\\\u00bc cup chopped onion \", \"recipe\": \"Traditional Mexican Guacamole\"}, {\"name\": \"\\\\u00bc cup chopped cilantro \", \"recipe\": \"Traditional Mexican Guacamole\"}, {\"name\": \"2 tablespoons lemon juice \", \"recipe\": \"Traditional Mexican Guacamole\"}, {\"name\": \"1 jalapeno pepper, seeded and minced (Optional)\", \"recipe\": \"Traditional Mexican Guacamole\"}, {\"name\": \" salt and ground black pepper to taste \", \"recipe\": \"Traditional Mexican Guacamole\"}], \"instructions\": [\"Mash avocados in a bowl until creamy.\", \"Mix tomatoes, onion, cilantro, lemon juice, and jalapeno pepper into mashed avocado until well combined; season with salt and black pepper.\"]}']"
      ]
     },
     "execution_count": 106,
     "metadata": {},
     "output_type": "execute_result"
    }
   ],
   "source": [
    "import json\n",
    "[json.dumps({\n",
    "   \"title\": row['title'],\n",
    "   \"description\": row['description'],\n",
    "   \"ingredients\":[{\"name\": ingredient} for ingredient in row['ingredients']],\n",
    "    \"instructions\": row['instructions'],\n",
    "   \n",
    "})for _, row in df_subs.iterrows()]\n"
   ]
  },
  {
   "cell_type": "code",
   "execution_count": 104,
   "metadata": {},
   "outputs": [],
   "source": []
  },
  {
   "cell_type": "code",
   "execution_count": null,
   "metadata": {},
   "outputs": [],
   "source": []
  }
 ],
 "metadata": {
  "kernelspec": {
   "display_name": "Python 3.8.3 ('base')",
   "language": "python",
   "name": "python3"
  },
  "language_info": {
   "codemirror_mode": {
    "name": "ipython",
    "version": 3
   },
   "file_extension": ".py",
   "mimetype": "text/x-python",
   "name": "python",
   "nbconvert_exporter": "python",
   "pygments_lexer": "ipython3",
   "version": "3.8.3"
  },
  "orig_nbformat": 4,
  "vscode": {
   "interpreter": {
    "hash": "dfe8b505a3b2573ce87429afee385bea41459b2118ca9b9750f48f1c9509c35d"
   }
  }
 },
 "nbformat": 4,
 "nbformat_minor": 2
}
