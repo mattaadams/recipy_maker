{
 "cells": [
  {
   "cell_type": "code",
   "execution_count": 1,
   "metadata": {},
   "outputs": [],
   "source": [
    "import csv\n",
    "import pandas as pd\n",
    "from bs4 import BeautifulSoup\n",
    "import requests\n",
    "import re\n",
    "import numpy as np\n"
   ]
  },
  {
   "cell_type": "code",
   "execution_count": 83,
   "metadata": {},
   "outputs": [],
   "source": [
    "\n",
    "\n",
    "MAIN_STRING = \"carouselNav__list elementFont__resetList recipeCarousel__list\"  # class for main recipe category page navlist\n",
    "CAT_STRING = \"category-page-list-content category-page-list-content__recipe-card karma-main-column\"  # Class for category page div\n",
    "CARDS_STRING = \"card__titleLink manual-link-behavior elementFont__title margin-8-bottom\"  # Class for most popular recipe cards\n",
    "\n",
    "\n",
    "def get_links():\n",
    "    source = requests.get('https://www.allrecipes.com/recipes/').text\n",
    "    soup = BeautifulSoup(source, 'lxml')\n",
    "    recipe_list = soup.find('ul', class_=MAIN_STRING)\n",
    "\n",
    "    links = []\n",
    "    pop_recipes = []\n",
    "    for a in recipe_list.find_all('a', href=True):\n",
    "        links.append(a['href'])\n",
    "        for i, _ in enumerate(links):\n",
    "            recipe_category = requests.get(links[i]).text\n",
    "            cat_soup = BeautifulSoup(recipe_category, 'lxml')  # category page\n",
    "            most_popular = cat_soup.find('div', class_=CAT_STRING)\n",
    "            for a in most_popular.find_all('a', class_=CARDS_STRING, href=True):\n",
    "                if re.search('https://www.allrecipes.com/recipe/.*', a['href']):\n",
    "                    pop_recipes.append(a['href'])\n",
    "\n",
    "    df = pd.DataFrame(pop_recipes, columns=[\"link\"])\n",
    "    df.to_csv('list.csv', index=False)\n",
    "    return df"
   ]
  },
  {
   "cell_type": "code",
   "execution_count": 80,
   "metadata": {},
   "outputs": [],
   "source": [
    "df= get_links()"
   ]
  },
  {
   "cell_type": "code",
   "execution_count": 108,
   "metadata": {},
   "outputs": [],
   "source": [
    "link_array = df['link'].to_numpy()\n",
    "#link_array"
   ]
  },
  {
   "cell_type": "code",
   "execution_count": 109,
   "metadata": {},
   "outputs": [],
   "source": [
    "recipe_info = []\n",
    "for link in link_array:\n",
    "    source = requests.get(link).text\n",
    "    soup = BeautifulSoup(source, 'lxml')\n",
    "\n",
    "    title = soup.find('h1').text\n",
    "    description = soup.find('p').text\n",
    "    rating = soup.find('span',class_=\"review-star-text visually-hidden\").text\n",
    "\n",
    "    ingredient_list = soup.find('ul',class_ = \"ingredients-section\")\n",
    "    ingredients = []\n",
    "    for ingredient in ingredient_list.find_all('span',class_=\"ingredients-item-name elementFont__body\"):\n",
    "        ingredients.append(ingredient.text)\n",
    "\n",
    "    instruction_list = soup.find('ul',class_ = \"instructions-section\")\n",
    "    instructions = []\n",
    "    for instruction in instruction_list.find_all('p'):\n",
    "        instructions.append(instruction.text)\n",
    "    \n",
    "    recipe_info.append([title,description,rating,ingredients,instructions])\n",
    "\n"
   ]
  },
  {
   "cell_type": "code",
   "execution_count": 126,
   "metadata": {},
   "outputs": [],
   "source": [
    "\n",
    "a = pd.DataFrame.from_dict(dict(zip(df['link'],recipe_info))).T\n",
    "\n"
   ]
  },
  {
   "cell_type": "code",
   "execution_count": 131,
   "metadata": {},
   "outputs": [
    {
     "data": {
      "text/plain": [
       "2339"
      ]
     },
     "execution_count": 131,
     "metadata": {},
     "output_type": "execute_result"
    }
   ],
   "source": [
    "len(link_array)"
   ]
  },
  {
   "cell_type": "code",
   "execution_count": 130,
   "metadata": {},
   "outputs": [
    {
     "data": {
      "text/plain": [
       "2339"
      ]
     },
     "execution_count": 130,
     "metadata": {},
     "output_type": "execute_result"
    }
   ],
   "source": [
    "len(recipe_info)"
   ]
  },
  {
   "cell_type": "code",
   "execution_count": 139,
   "metadata": {},
   "outputs": [],
   "source": [
    "import pickle\n",
    "def SaveLists(data,filename):\n",
    "    open_file = open(f'{filename}.pkl',\"wb\")\n",
    "    pickle.dump(data, open_file)\n",
    "    open_file.close()\n",
    "\n",
    "def LoadLists(file):\n",
    "    open_file = open(file, \"rb\")\n",
    "    loaded_list = pickle.load(open_file)\n",
    "    open_file.close()\n",
    "    return loaded_list"
   ]
  },
  {
   "cell_type": "code",
   "execution_count": 140,
   "metadata": {},
   "outputs": [],
   "source": [
    "SaveLists(recipe_info)\n",
    "\n"
   ]
  },
  {
   "cell_type": "code",
   "execution_count": 142,
   "metadata": {},
   "outputs": [],
   "source": [
    "lists = LoadLists('myPickleFile.pkl')"
   ]
  },
  {
   "cell_type": "code",
   "execution_count": 144,
   "metadata": {},
   "outputs": [
    {
     "data": {
      "text/plain": [
       "2339"
      ]
     },
     "execution_count": 144,
     "metadata": {},
     "output_type": "execute_result"
    }
   ],
   "source": [
    "len(lists)"
   ]
  },
  {
   "cell_type": "code",
   "execution_count": null,
   "metadata": {},
   "outputs": [],
   "source": []
  }
 ],
 "metadata": {
  "interpreter": {
   "hash": "dfe8b505a3b2573ce87429afee385bea41459b2118ca9b9750f48f1c9509c35d"
  },
  "kernelspec": {
   "display_name": "Python 3.8.3 ('base')",
   "language": "python",
   "name": "python3"
  },
  "language_info": {
   "codemirror_mode": {
    "name": "ipython",
    "version": 3
   },
   "file_extension": ".py",
   "mimetype": "text/x-python",
   "name": "python",
   "nbconvert_exporter": "python",
   "pygments_lexer": "ipython3",
   "version": "3.8.3"
  },
  "orig_nbformat": 4
 },
 "nbformat": 4,
 "nbformat_minor": 2
}
