{
 "cells": [
  {
   "cell_type": "code",
   "execution_count": 6,
   "metadata": {},
   "outputs": [],
   "source": [
    "import sys\n",
    "import pandas as pd"
   ]
  },
  {
   "cell_type": "code",
   "execution_count": 17,
   "metadata": {},
   "outputs": [
    {
     "name": "stdout",
     "output_type": "stream",
     "text": [
      "(658, 7)\n"
     ]
    },
    {
     "data": {
      "text/plain": [
       "Index(['link', 'title', 'image_url', 'description', 'rating', 'ingredients',\n",
       "       'instructions'],\n",
       "      dtype='object')"
      ]
     },
     "execution_count": 17,
     "metadata": {},
     "output_type": "execute_result"
    }
   ],
   "source": [
    "df = pd.read_pickle('full_data_with_image.pkl')\n",
    "print(df.shape)\n",
    "\n",
    "df.columns"
   ]
  },
  {
   "cell_type": "code",
   "execution_count": 8,
   "metadata": {},
   "outputs": [],
   "source": [
    "df_sub = df[['title','image_url','description','ingredients','instructions']].copy()\n",
    "\n",
    "df_sub['instructions'] = ['\\n\\n'.join(x) for x in df_sub['instructions']]"
   ]
  },
  {
   "cell_type": "code",
   "execution_count": 9,
   "metadata": {},
   "outputs": [
    {
     "data": {
      "text/html": [
       "<div>\n",
       "<style scoped>\n",
       "    .dataframe tbody tr th:only-of-type {\n",
       "        vertical-align: middle;\n",
       "    }\n",
       "\n",
       "    .dataframe tbody tr th {\n",
       "        vertical-align: top;\n",
       "    }\n",
       "\n",
       "    .dataframe thead th {\n",
       "        text-align: right;\n",
       "    }\n",
       "</style>\n",
       "<table border=\"1\" class=\"dataframe\">\n",
       "  <thead>\n",
       "    <tr style=\"text-align: right;\">\n",
       "      <th></th>\n",
       "      <th>title</th>\n",
       "      <th>image_url</th>\n",
       "      <th>description</th>\n",
       "      <th>ingredients</th>\n",
       "      <th>instructions</th>\n",
       "    </tr>\n",
       "  </thead>\n",
       "  <tbody>\n",
       "    <tr>\n",
       "      <th>0</th>\n",
       "      <td>Traditional Mexican Guacamole</td>\n",
       "      <td>https://imagesvc.meredithcorp.io/v3/mm/image?u...</td>\n",
       "      <td>This guacamole is great! Whether or not you wa...</td>\n",
       "      <td>[2 avocados, peeled and pitted , 1 cup chopped...</td>\n",
       "      <td>Mash avocados in a bowl until creamy.\\nMix tom...</td>\n",
       "    </tr>\n",
       "  </tbody>\n",
       "</table>\n",
       "</div>"
      ],
      "text/plain": [
       "                           title  \\\n",
       "0  Traditional Mexican Guacamole   \n",
       "\n",
       "                                           image_url  \\\n",
       "0  https://imagesvc.meredithcorp.io/v3/mm/image?u...   \n",
       "\n",
       "                                         description  \\\n",
       "0  This guacamole is great! Whether or not you wa...   \n",
       "\n",
       "                                         ingredients  \\\n",
       "0  [2 avocados, peeled and pitted , 1 cup chopped...   \n",
       "\n",
       "                                        instructions  \n",
       "0  Mash avocados in a bowl until creamy.\\nMix tom...  "
      ]
     },
     "execution_count": 9,
     "metadata": {},
     "output_type": "execute_result"
    }
   ],
   "source": [
    "df_subs = df_sub.head(100)\n",
    "\n",
    "df_subs.head(1)"
   ]
  },
  {
   "cell_type": "code",
   "execution_count": 12,
   "metadata": {},
   "outputs": [],
   "source": [
    "def row_to_json(row):\n",
    "    return {\n",
    "   \"title\": row['title'],\n",
    "   \"image_url\":row['image_url'],\n",
    "   \"description\": row['description'],\n",
    "   \"ingredients\":[{\"name\": ingredient} for ingredient in row['ingredients']],\n",
    "    \"instructions\": row['instructions'],\n",
    "   \n",
    "}\n",
    "\n",
    "df_sub['json'] = df.apply(row_to_json,axis=1)"
   ]
  },
  {
   "cell_type": "code",
   "execution_count": 18,
   "metadata": {},
   "outputs": [],
   "source": [
    "df_sub.to_pickle('df_w_json.pkl')"
   ]
  },
  {
   "cell_type": "code",
   "execution_count": 19,
   "metadata": {},
   "outputs": [
    {
     "data": {
      "text/plain": [
       "{'title': 'Traditional Mexican Guacamole',\n",
       " 'image_url': 'https://imagesvc.meredithcorp.io/v3/mm/image?url=https%3A%2F%2Fimages.media-allrecipes.com%2Fuserphotos%2F848092.jpg',\n",
       " 'description': 'This guacamole is great! Whether or not you want it spicy, this guacamole is a dip to die for! ',\n",
       " 'ingredients': [{'name': '2 avocados, peeled and pitted '},\n",
       "  {'name': '1 cup chopped tomatoes '},\n",
       "  {'name': '¼ cup chopped onion '},\n",
       "  {'name': '¼ cup chopped cilantro '},\n",
       "  {'name': '2 tablespoons lemon juice '},\n",
       "  {'name': '1 jalapeno pepper, seeded and minced (Optional)'},\n",
       "  {'name': ' salt and ground black pepper to taste '}],\n",
       " 'instructions': ['Mash avocados in a bowl until creamy.',\n",
       "  'Mix tomatoes, onion, cilantro, lemon juice, and jalapeno pepper into mashed avocado until well combined; season with salt and black pepper.']}"
      ]
     },
     "execution_count": 19,
     "metadata": {},
     "output_type": "execute_result"
    }
   ],
   "source": [
    "df_sub['json'][0]"
   ]
  },
  {
   "cell_type": "code",
   "execution_count": null,
   "metadata": {},
   "outputs": [],
   "source": [
    "#backup ..\n",
    "\n",
    "recipe_json =  [{\n",
    "   \"title\": row['title'],\n",
    "   \"image_url\":row['image_url'],\n",
    "   \"description\": row['description'],\n",
    "   \"ingredients\":[{\"name\": ingredient} for ingredient in row['ingredients']],\n",
    "    \"instructions\": row['instructions'],\n",
    "   \n",
    "}for _, row in df_subs.iterrows()]"
   ]
  }
 ],
 "metadata": {
  "kernelspec": {
   "display_name": "Python 3.8.5 64-bit",
   "language": "python",
   "name": "python3"
  },
  "language_info": {
   "codemirror_mode": {
    "name": "ipython",
    "version": 3
   },
   "file_extension": ".py",
   "mimetype": "text/x-python",
   "name": "python",
   "nbconvert_exporter": "python",
   "pygments_lexer": "ipython3",
   "version": "3.8.5"
  },
  "orig_nbformat": 4,
  "vscode": {
   "interpreter": {
    "hash": "916dbcbb3f70747c44a77c7bcd40155683ae19c65e1c03b4aa3499c5328201f1"
   }
  }
 },
 "nbformat": 4,
 "nbformat_minor": 2
}
