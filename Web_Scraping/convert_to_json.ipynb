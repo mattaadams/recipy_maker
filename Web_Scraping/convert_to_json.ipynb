{
 "cells": [
  {
   "cell_type": "code",
   "execution_count": 57,
   "metadata": {},
   "outputs": [],
   "source": [
    "import sys\n",
    "import pandas as pd"
   ]
  },
  {
   "cell_type": "code",
   "execution_count": 58,
   "metadata": {},
   "outputs": [
    {
     "data": {
      "text/plain": [
       "Index(['link', 'title', 'image_url', 'description', 'rating', 'ingredients',\n",
       "       'instructions'],\n",
       "      dtype='object')"
      ]
     },
     "execution_count": 58,
     "metadata": {},
     "output_type": "execute_result"
    }
   ],
   "source": [
    "df = pd.read_pickle('full_data_with_image.pkl')\n",
    "\n",
    "df.columns"
   ]
  },
  {
   "cell_type": "code",
   "execution_count": 59,
   "metadata": {},
   "outputs": [],
   "source": [
    "df_sub = df[['title','image_url','description','ingredients','instructions']].copy()\n",
    "\n",
    "df_sub['instructions'] = ['\\n'.join(x) for x in df_sub['instructions']]"
   ]
  },
  {
   "cell_type": "code",
   "execution_count": 70,
   "metadata": {},
   "outputs": [
    {
     "data": {
      "text/html": [
       "<div>\n",
       "<style scoped>\n",
       "    .dataframe tbody tr th:only-of-type {\n",
       "        vertical-align: middle;\n",
       "    }\n",
       "\n",
       "    .dataframe tbody tr th {\n",
       "        vertical-align: top;\n",
       "    }\n",
       "\n",
       "    .dataframe thead th {\n",
       "        text-align: right;\n",
       "    }\n",
       "</style>\n",
       "<table border=\"1\" class=\"dataframe\">\n",
       "  <thead>\n",
       "    <tr style=\"text-align: right;\">\n",
       "      <th></th>\n",
       "      <th>title</th>\n",
       "      <th>image_url</th>\n",
       "      <th>description</th>\n",
       "      <th>ingredients</th>\n",
       "      <th>instructions</th>\n",
       "    </tr>\n",
       "  </thead>\n",
       "  <tbody>\n",
       "    <tr>\n",
       "      <th>0</th>\n",
       "      <td>Traditional Mexican Guacamole</td>\n",
       "      <td>https://imagesvc.meredithcorp.io/v3/mm/image?u...</td>\n",
       "      <td>This guacamole is great! Whether or not you wa...</td>\n",
       "      <td>[2 avocados, peeled and pitted , 1 cup chopped...</td>\n",
       "      <td>Mash avocados in a bowl until creamy.\\nMix tom...</td>\n",
       "    </tr>\n",
       "  </tbody>\n",
       "</table>\n",
       "</div>"
      ],
      "text/plain": [
       "                           title  \\\n",
       "0  Traditional Mexican Guacamole   \n",
       "\n",
       "                                           image_url  \\\n",
       "0  https://imagesvc.meredithcorp.io/v3/mm/image?u...   \n",
       "\n",
       "                                         description  \\\n",
       "0  This guacamole is great! Whether or not you wa...   \n",
       "\n",
       "                                         ingredients  \\\n",
       "0  [2 avocados, peeled and pitted , 1 cup chopped...   \n",
       "\n",
       "                                        instructions  \n",
       "0  Mash avocados in a bowl until creamy.\\nMix tom...  "
      ]
     },
     "execution_count": 70,
     "metadata": {},
     "output_type": "execute_result"
    }
   ],
   "source": [
    "df_subs = df_sub.head(10)\n",
    "\n",
    "df_subs.head(1)"
   ]
  },
  {
   "cell_type": "code",
   "execution_count": 71,
   "metadata": {},
   "outputs": [],
   "source": [
    "import json\n",
    "\n",
    "\n",
    "recipe_json =  [json.dumps({\n",
    "   \"title\": row['title'],\n",
    "   \"image_url\":row['image_url'],\n",
    "   \"description\": row['description'],\n",
    "   \"ingredients\":[{\"name\": ingredient} for ingredient in row['ingredients']],\n",
    "    \"instructions\": row['instructions'],\n",
    "   \n",
    "})for _, row in df_subs.iterrows()]\n"
   ]
  },
  {
   "cell_type": "code",
   "execution_count": 72,
   "metadata": {},
   "outputs": [
    {
     "data": {
      "text/plain": [
       "'{\"title\": \"Traditional Mexican Guacamole\", \"image_url\": \"https://imagesvc.meredithcorp.io/v3/mm/image?url=https%3A%2F%2Fimages.media-allrecipes.com%2Fuserphotos%2F848092.jpg\", \"description\": \"This guacamole is great! Whether or not you want it spicy, this guacamole is a dip to die for! \", \"ingredients\": [{\"name\": \"2 avocados, peeled and pitted \"}, {\"name\": \"1 cup chopped tomatoes \"}, {\"name\": \"\\\\u00bc cup chopped onion \"}, {\"name\": \"\\\\u00bc cup chopped cilantro \"}, {\"name\": \"2 tablespoons lemon juice \"}, {\"name\": \"1 jalapeno pepper, seeded and minced (Optional)\"}, {\"name\": \" salt and ground black pepper to taste \"}], \"instructions\": \"Mash avocados in a bowl until creamy.\\\\nMix tomatoes, onion, cilantro, lemon juice, and jalapeno pepper into mashed avocado until well combined; season with salt and black pepper.\"}'"
      ]
     },
     "execution_count": 72,
     "metadata": {},
     "output_type": "execute_result"
    }
   ],
   "source": [
    "recipe_json[0]"
   ]
  }
 ],
 "metadata": {
  "kernelspec": {
   "display_name": "Python 3.8.3 ('base')",
   "language": "python",
   "name": "python3"
  },
  "language_info": {
   "codemirror_mode": {
    "name": "ipython",
    "version": 3
   },
   "file_extension": ".py",
   "mimetype": "text/x-python",
   "name": "python",
   "nbconvert_exporter": "python",
   "pygments_lexer": "ipython3",
   "version": "3.8.3"
  },
  "orig_nbformat": 4,
  "vscode": {
   "interpreter": {
    "hash": "dfe8b505a3b2573ce87429afee385bea41459b2118ca9b9750f48f1c9509c35d"
   }
  }
 },
 "nbformat": 4,
 "nbformat_minor": 2
}
