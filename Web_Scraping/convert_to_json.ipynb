{
 "cells": [
  {
   "cell_type": "code",
   "execution_count": 1,
   "metadata": {},
   "outputs": [],
   "source": [
    "import sys\n",
    "import pandas as pd"
   ]
  },
  {
   "cell_type": "code",
   "execution_count": 6,
   "metadata": {},
   "outputs": [
    {
     "data": {
      "text/plain": [
       "Index(['Link', 'image_url', 'Title', 'Description', 'Rating', 'Ingredients',\n",
       "       'Instructions'],\n",
       "      dtype='object')"
      ]
     },
     "execution_count": 6,
     "metadata": {},
     "output_type": "execute_result"
    }
   ],
   "source": [
    "df = pd.read_pickle('data_full_with_image.pkl')\n",
    "\n",
    "df.columns"
   ]
  },
  {
   "cell_type": "code",
   "execution_count": 7,
   "metadata": {},
   "outputs": [
    {
     "data": {
      "text/html": [
       "<div>\n",
       "<style scoped>\n",
       "    .dataframe tbody tr th:only-of-type {\n",
       "        vertical-align: middle;\n",
       "    }\n",
       "\n",
       "    .dataframe tbody tr th {\n",
       "        vertical-align: top;\n",
       "    }\n",
       "\n",
       "    .dataframe thead th {\n",
       "        text-align: right;\n",
       "    }\n",
       "</style>\n",
       "<table border=\"1\" class=\"dataframe\">\n",
       "  <thead>\n",
       "    <tr style=\"text-align: right;\">\n",
       "      <th></th>\n",
       "      <th>title</th>\n",
       "      <th>image_url</th>\n",
       "      <th>description</th>\n",
       "      <th>ingredients</th>\n",
       "      <th>instructions</th>\n",
       "    </tr>\n",
       "  </thead>\n",
       "  <tbody>\n",
       "    <tr>\n",
       "      <th>0</th>\n",
       "      <td>Traditional Mexican Guacamole</td>\n",
       "      <td>https://imagesvc.meredithcorp.io/v3/mm/image?u...</td>\n",
       "      <td>This guacamole is great! Whether or not you wa...</td>\n",
       "      <td>[2 avocados, peeled and pitted , 1 cup chopped...</td>\n",
       "      <td>[Mash avocados in a bowl until creamy., Mix to...</td>\n",
       "    </tr>\n",
       "    <tr>\n",
       "      <th>1</th>\n",
       "      <td>Traditional Mexican Guacamole</td>\n",
       "      <td>https://imagesvc.meredithcorp.io/v3/mm/image?u...</td>\n",
       "      <td>This guacamole is great! Whether or not you wa...</td>\n",
       "      <td>[2 avocados, peeled and pitted , 1 cup chopped...</td>\n",
       "      <td>[Mash avocados in a bowl until creamy., Mix to...</td>\n",
       "    </tr>\n",
       "    <tr>\n",
       "      <th>2</th>\n",
       "      <td>Traditional Mexican Guacamole</td>\n",
       "      <td>https://imagesvc.meredithcorp.io/v3/mm/image?u...</td>\n",
       "      <td>This guacamole is great! Whether or not you wa...</td>\n",
       "      <td>[2 avocados, peeled and pitted , 1 cup chopped...</td>\n",
       "      <td>[Mash avocados in a bowl until creamy., Mix to...</td>\n",
       "    </tr>\n",
       "    <tr>\n",
       "      <th>3</th>\n",
       "      <td>Traditional Mexican Guacamole</td>\n",
       "      <td>https://imagesvc.meredithcorp.io/v3/mm/image?u...</td>\n",
       "      <td>This guacamole is great! Whether or not you wa...</td>\n",
       "      <td>[2 avocados, peeled and pitted , 1 cup chopped...</td>\n",
       "      <td>[Mash avocados in a bowl until creamy., Mix to...</td>\n",
       "    </tr>\n",
       "    <tr>\n",
       "      <th>4</th>\n",
       "      <td>Traditional Mexican Guacamole</td>\n",
       "      <td>https://imagesvc.meredithcorp.io/v3/mm/image?u...</td>\n",
       "      <td>This guacamole is great! Whether or not you wa...</td>\n",
       "      <td>[2 avocados, peeled and pitted , 1 cup chopped...</td>\n",
       "      <td>[Mash avocados in a bowl until creamy., Mix to...</td>\n",
       "    </tr>\n",
       "    <tr>\n",
       "      <th>...</th>\n",
       "      <td>...</td>\n",
       "      <td>...</td>\n",
       "      <td>...</td>\n",
       "      <td>...</td>\n",
       "      <td>...</td>\n",
       "    </tr>\n",
       "    <tr>\n",
       "      <th>29367</th>\n",
       "      <td>Miso Soup</td>\n",
       "      <td>https://imagesvc.meredithcorp.io/v3/mm/image?u...</td>\n",
       "      <td>Dashi is a basic stock used in Japanese cookin...</td>\n",
       "      <td>[2 teaspoons dashi granules , 4 cups water , 3...</td>\n",
       "      <td>[In a medium saucepan over medium-high heat, c...</td>\n",
       "    </tr>\n",
       "    <tr>\n",
       "      <th>29368</th>\n",
       "      <td>Simple Turkey Chili</td>\n",
       "      <td>https://imagesvc.meredithcorp.io/v3/mm/image?u...</td>\n",
       "      <td>This turkey chili is very simple but hearty wi...</td>\n",
       "      <td>[1 ½ teaspoons olive oil , 1 pound ground turk...</td>\n",
       "      <td>[Heat oil in a large pot over medium heat. Add...</td>\n",
       "    </tr>\n",
       "    <tr>\n",
       "      <th>29369</th>\n",
       "      <td>Maple Salmon</td>\n",
       "      <td>https://imagesvc.meredithcorp.io/v3/mm/image?u...</td>\n",
       "      <td>This maple glazed salmon is delicious and very...</td>\n",
       "      <td>[¼ cup maple syrup , 2 tablespoons soy sauce ,...</td>\n",
       "      <td>[Stir together maple syrup, soy sauce, garlic,...</td>\n",
       "    </tr>\n",
       "    <tr>\n",
       "      <th>29370</th>\n",
       "      <td>Feta Eggs</td>\n",
       "      <td>https://imagesvc.meredithcorp.io/v3/mm/image?u...</td>\n",
       "      <td>A very TASTY way to add zip to boring scramble...</td>\n",
       "      <td>[1 tablespoon butter , ¼ cup chopped onion , 4...</td>\n",
       "      <td>[Melt butter in a skillet over medium heat. Sa...</td>\n",
       "    </tr>\n",
       "    <tr>\n",
       "      <th>29371</th>\n",
       "      <td>Jamie's Sweet and Easy Corn on the Cob</td>\n",
       "      <td>https://imagesvc.meredithcorp.io/v3/mm/image?u...</td>\n",
       "      <td>My mother-in-law gave me this quick and easy r...</td>\n",
       "      <td>[2 tablespoons white sugar , 1 tablespoon lemo...</td>\n",
       "      <td>[Fill a large pot about 3/4 full of water and ...</td>\n",
       "    </tr>\n",
       "  </tbody>\n",
       "</table>\n",
       "<p>29372 rows × 5 columns</p>\n",
       "</div>"
      ],
      "text/plain": [
       "                                        title  \\\n",
       "0               Traditional Mexican Guacamole   \n",
       "1               Traditional Mexican Guacamole   \n",
       "2               Traditional Mexican Guacamole   \n",
       "3               Traditional Mexican Guacamole   \n",
       "4               Traditional Mexican Guacamole   \n",
       "...                                       ...   \n",
       "29367                               Miso Soup   \n",
       "29368                     Simple Turkey Chili   \n",
       "29369                            Maple Salmon   \n",
       "29370                               Feta Eggs   \n",
       "29371  Jamie's Sweet and Easy Corn on the Cob   \n",
       "\n",
       "                                               image_url  \\\n",
       "0      https://imagesvc.meredithcorp.io/v3/mm/image?u...   \n",
       "1      https://imagesvc.meredithcorp.io/v3/mm/image?u...   \n",
       "2      https://imagesvc.meredithcorp.io/v3/mm/image?u...   \n",
       "3      https://imagesvc.meredithcorp.io/v3/mm/image?u...   \n",
       "4      https://imagesvc.meredithcorp.io/v3/mm/image?u...   \n",
       "...                                                  ...   \n",
       "29367  https://imagesvc.meredithcorp.io/v3/mm/image?u...   \n",
       "29368  https://imagesvc.meredithcorp.io/v3/mm/image?u...   \n",
       "29369  https://imagesvc.meredithcorp.io/v3/mm/image?u...   \n",
       "29370  https://imagesvc.meredithcorp.io/v3/mm/image?u...   \n",
       "29371  https://imagesvc.meredithcorp.io/v3/mm/image?u...   \n",
       "\n",
       "                                             description  \\\n",
       "0      This guacamole is great! Whether or not you wa...   \n",
       "1      This guacamole is great! Whether or not you wa...   \n",
       "2      This guacamole is great! Whether or not you wa...   \n",
       "3      This guacamole is great! Whether or not you wa...   \n",
       "4      This guacamole is great! Whether or not you wa...   \n",
       "...                                                  ...   \n",
       "29367  Dashi is a basic stock used in Japanese cookin...   \n",
       "29368  This turkey chili is very simple but hearty wi...   \n",
       "29369  This maple glazed salmon is delicious and very...   \n",
       "29370  A very TASTY way to add zip to boring scramble...   \n",
       "29371  My mother-in-law gave me this quick and easy r...   \n",
       "\n",
       "                                             ingredients  \\\n",
       "0      [2 avocados, peeled and pitted , 1 cup chopped...   \n",
       "1      [2 avocados, peeled and pitted , 1 cup chopped...   \n",
       "2      [2 avocados, peeled and pitted , 1 cup chopped...   \n",
       "3      [2 avocados, peeled and pitted , 1 cup chopped...   \n",
       "4      [2 avocados, peeled and pitted , 1 cup chopped...   \n",
       "...                                                  ...   \n",
       "29367  [2 teaspoons dashi granules , 4 cups water , 3...   \n",
       "29368  [1 ½ teaspoons olive oil , 1 pound ground turk...   \n",
       "29369  [¼ cup maple syrup , 2 tablespoons soy sauce ,...   \n",
       "29370  [1 tablespoon butter , ¼ cup chopped onion , 4...   \n",
       "29371  [2 tablespoons white sugar , 1 tablespoon lemo...   \n",
       "\n",
       "                                            instructions  \n",
       "0      [Mash avocados in a bowl until creamy., Mix to...  \n",
       "1      [Mash avocados in a bowl until creamy., Mix to...  \n",
       "2      [Mash avocados in a bowl until creamy., Mix to...  \n",
       "3      [Mash avocados in a bowl until creamy., Mix to...  \n",
       "4      [Mash avocados in a bowl until creamy., Mix to...  \n",
       "...                                                  ...  \n",
       "29367  [In a medium saucepan over medium-high heat, c...  \n",
       "29368  [Heat oil in a large pot over medium heat. Add...  \n",
       "29369  [Stir together maple syrup, soy sauce, garlic,...  \n",
       "29370  [Melt butter in a skillet over medium heat. Sa...  \n",
       "29371  [Fill a large pot about 3/4 full of water and ...  \n",
       "\n",
       "[29372 rows x 5 columns]"
      ]
     },
     "execution_count": 7,
     "metadata": {},
     "output_type": "execute_result"
    }
   ],
   "source": [
    "df_sub = df[['Title','image_url','Description','Ingredients','Instructions']]"
   ]
  },
  {
   "cell_type": "code",
   "execution_count": 22,
   "metadata": {},
   "outputs": [],
   "source": [
    "df_sub['instructions_str'] = ['\\n'.join(x) for x in df_sub['instructions']]"
   ]
  },
  {
   "cell_type": "code",
   "execution_count": 23,
   "metadata": {},
   "outputs": [
    {
     "data": {
      "text/html": [
       "<div>\n",
       "<style scoped>\n",
       "    .dataframe tbody tr th:only-of-type {\n",
       "        vertical-align: middle;\n",
       "    }\n",
       "\n",
       "    .dataframe tbody tr th {\n",
       "        vertical-align: top;\n",
       "    }\n",
       "\n",
       "    .dataframe thead th {\n",
       "        text-align: right;\n",
       "    }\n",
       "</style>\n",
       "<table border=\"1\" class=\"dataframe\">\n",
       "  <thead>\n",
       "    <tr style=\"text-align: right;\">\n",
       "      <th></th>\n",
       "      <th>title</th>\n",
       "      <th>description</th>\n",
       "      <th>ingredients</th>\n",
       "      <th>instructions</th>\n",
       "      <th>instructions_str</th>\n",
       "    </tr>\n",
       "  </thead>\n",
       "  <tbody>\n",
       "    <tr>\n",
       "      <th>0</th>\n",
       "      <td>Traditional Mexican Guacamole</td>\n",
       "      <td>This guacamole is great! Whether or not you wa...</td>\n",
       "      <td>[2 avocados, peeled and pitted , 1 cup chopped...</td>\n",
       "      <td>[Mash avocados in a bowl until creamy., Mix to...</td>\n",
       "      <td>Mash avocados in a bowl until creamy.\\nMix tom...</td>\n",
       "    </tr>\n",
       "  </tbody>\n",
       "</table>\n",
       "</div>"
      ],
      "text/plain": [
       "                           title  \\\n",
       "0  Traditional Mexican Guacamole   \n",
       "\n",
       "                                         description  \\\n",
       "0  This guacamole is great! Whether or not you wa...   \n",
       "\n",
       "                                         ingredients  \\\n",
       "0  [2 avocados, peeled and pitted , 1 cup chopped...   \n",
       "\n",
       "                                        instructions  \\\n",
       "0  [Mash avocados in a bowl until creamy., Mix to...   \n",
       "\n",
       "                                    instructions_str  \n",
       "0  Mash avocados in a bowl until creamy.\\nMix tom...  "
      ]
     },
     "execution_count": 23,
     "metadata": {},
     "output_type": "execute_result"
    }
   ],
   "source": [
    "df_subs = df_sub.head(1)\n",
    "\n",
    "df_subs"
   ]
  },
  {
   "cell_type": "code",
   "execution_count": 24,
   "metadata": {},
   "outputs": [
    {
     "name": "stdout",
     "output_type": "stream",
     "text": [
      "{'title': 'Traditional Mexican Guacamole', 'description': 'This guacamole is great! Whether or not you want it spicy, this guacamole is a dip to die for! ', 'ingredients': [{'name': '2 avocados, peeled and pitted '}, {'name': '1 cup chopped tomatoes '}, {'name': '¼ cup chopped onion '}, {'name': '¼ cup chopped cilantro '}, {'name': '2 tablespoons lemon juice '}, {'name': '1 jalapeno pepper, seeded and minced (Optional)'}, {'name': ' salt and ground black pepper to taste '}], 'instructions': 'Mash avocados in a bowl until creamy.\\nMix tomatoes, onion, cilantro, lemon juice, and jalapeno pepper into mashed avocado until well combined; season with salt and black pepper.'}\n"
     ]
    },
    {
     "data": {
      "text/plain": [
       "[None]"
      ]
     },
     "execution_count": 24,
     "metadata": {},
     "output_type": "execute_result"
    }
   ],
   "source": [
    "[print({\n",
    "   \"title\": row['title'],\n",
    "   \"description\": row['description'],\n",
    "   \"ingredients\":[{\n",
    "      \"name\": ingredient,\n",
    "   } for ingredient in row['ingredients']],\n",
    "   \"instructions\": row['instructions_str']\n",
    "}) for _, row in df_subs.iterrows()]"
   ]
  },
  {
   "cell_type": "code",
   "execution_count": 106,
   "metadata": {},
   "outputs": [
    {
     "data": {
      "text/plain": [
       "['{\"title\": \"Traditional Mexican Guacamole\", \"description\": \"This guacamole is great! Whether or not you want it spicy, this guacamole is a dip to die for! \", \"ingredients\": [{\"name\": \"2 avocados, peeled and pitted \", \"recipe\": \"Traditional Mexican Guacamole\"}, {\"name\": \"1 cup chopped tomatoes \", \"recipe\": \"Traditional Mexican Guacamole\"}, {\"name\": \"\\\\u00bc cup chopped onion \", \"recipe\": \"Traditional Mexican Guacamole\"}, {\"name\": \"\\\\u00bc cup chopped cilantro \", \"recipe\": \"Traditional Mexican Guacamole\"}, {\"name\": \"2 tablespoons lemon juice \", \"recipe\": \"Traditional Mexican Guacamole\"}, {\"name\": \"1 jalapeno pepper, seeded and minced (Optional)\", \"recipe\": \"Traditional Mexican Guacamole\"}, {\"name\": \" salt and ground black pepper to taste \", \"recipe\": \"Traditional Mexican Guacamole\"}], \"instructions\": [\"Mash avocados in a bowl until creamy.\", \"Mix tomatoes, onion, cilantro, lemon juice, and jalapeno pepper into mashed avocado until well combined; season with salt and black pepper.\"]}']"
      ]
     },
     "execution_count": 106,
     "metadata": {},
     "output_type": "execute_result"
    }
   ],
   "source": [
    "import json\n",
    "[json.dumps({\n",
    "   \"title\": row['title'],\n",
    "   \"description\": row['description'],\n",
    "   \"ingredients\":[{\"name\": ingredient} for ingredient in row['ingredients']],\n",
    "    \"instructions\": row['instructions'],\n",
    "   \n",
    "})for _, row in df_subs.iterrows()]\n"
   ]
  },
  {
   "cell_type": "code",
   "execution_count": 104,
   "metadata": {},
   "outputs": [],
   "source": [
    "# Need contain the entire instructions inside a single double quote \"\" "
   ]
  },
  {
   "cell_type": "code",
   "execution_count": null,
   "metadata": {},
   "outputs": [],
   "source": []
  }
 ],
 "metadata": {
  "kernelspec": {
   "display_name": "Python 3.8.3 ('base')",
   "language": "python",
   "name": "python3"
  },
  "language_info": {
   "codemirror_mode": {
    "name": "ipython",
    "version": 3
   },
   "file_extension": ".py",
   "mimetype": "text/x-python",
   "name": "python",
   "nbconvert_exporter": "python",
   "pygments_lexer": "ipython3",
   "version": "3.8.3"
  },
  "orig_nbformat": 4,
  "vscode": {
   "interpreter": {
    "hash": "dfe8b505a3b2573ce87429afee385bea41459b2118ca9b9750f48f1c9509c35d"
   }
  }
 },
 "nbformat": 4,
 "nbformat_minor": 2
}
