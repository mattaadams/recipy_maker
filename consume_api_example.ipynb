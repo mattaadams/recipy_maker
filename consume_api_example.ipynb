{
 "cells": [
  {
   "cell_type": "code",
   "execution_count": 1,
   "metadata": {},
   "outputs": [],
   "source": [
    "import consume"
   ]
  },
  {
   "cell_type": "code",
   "execution_count": 2,
   "metadata": {},
   "outputs": [],
   "source": [
    "my_api = consume.API('admin','1477')"
   ]
  },
  {
   "cell_type": "code",
   "execution_count": 3,
   "metadata": {},
   "outputs": [
    {
     "data": {
      "text/plain": [
       "{'id': 22,\n",
       " 'author': 'admin',\n",
       " 'title': 'Homestyle Potato Chips',\n",
       " 'description': \"Homemade potato chips are fun and easy. Guaranteed they won't last long! A food processor with a slicing attachment is very helpful for slicing the potatoes. Experiment with the thickness; you may like them thicker or thinner. I like to use olive oil for frying, but you can use safflower, corn, or peanut oil as well as vegetable oil.\",\n",
       " 'ingredients': [{'name': '4 medium potatoes, peeled and sliced paper-thin'},\n",
       "  {'name': '3 tablespoons salt, plus more to taste'},\n",
       "  {'name': '1 quart oil for deep frying'}],\n",
       " 'instructions': 'Transfer potato slices to a large bowl of cold water as you slice them.\\nDrain slices and rinse under cold water. Refill the bowl with water, add 3 tablespoons salt, and put slices back in the bowl. Let potatoes soak in the salty water for at least 30 minutes.\\nDrain and rinse slices again. Pat dry.\\nHeat oil in a deep-fryer to 365 degrees F (185 degrees C).\\nWorking in small batches, fry potato slices until golden. Remove with a slotted spoon and drain on paper towels. Continue until all of the slices are fried.\\nSeason potato chips with additional salt if desired.'}"
      ]
     },
     "execution_count": 3,
     "metadata": {},
     "output_type": "execute_result"
    }
   ],
   "source": [
    "my_api.get_recipes(2)[0]"
   ]
  },
  {
   "cell_type": "code",
   "execution_count": 4,
   "metadata": {},
   "outputs": [
    {
     "data": {
      "text/plain": [
       "{'id': 124,\n",
       " 'author': 'admin',\n",
       " 'title': 'TEST',\n",
       " 'image_url': None,\n",
       " 'description': 'TEST',\n",
       " 'ingredients': [{'name': 'TEST', 'id': 857}],\n",
       " 'instructions': 'TEST'}"
      ]
     },
     "execution_count": 4,
     "metadata": {},
     "output_type": "execute_result"
    }
   ],
   "source": [
    "title = \"TEST\"\n",
    "description = \"TEST\"\n",
    "ingredient_list = [\"TEST\"]\n",
    "instructions = \"TEST\"\n",
    "my_api.post_recipe(title,description,ingredient_list,instructions)"
   ]
  },
  {
   "cell_type": "code",
   "execution_count": 5,
   "metadata": {},
   "outputs": [
    {
     "data": {
      "text/plain": [
       "[{'id': 1,\n",
       "  'username': 'admin',\n",
       "  'favorites': [4, 1, 3, 6, 9, 12, 15, 18, 21, 24, 27, 30, 33, 36, 39, 119]},\n",
       " {'id': 2, 'username': 'dadmin2', 'favorites': []},\n",
       " {'id': 3, 'username': 'manmanman', 'favorites': [4]},\n",
       " {'id': 4, 'username': 'madam2', 'favorites': []},\n",
       " {'id': 5, 'username': 'adminq2w12', 'favorites': []},\n",
       " {'id': 6, 'username': 'adminq2w12sadasdas', 'favorites': []},\n",
       " {'id': 7, 'username': 'adminq2w12sadasda4s', 'favorites': []},\n",
       " {'id': 8, 'username': 'adminq2w12sadasda4sasd', 'favorites': []},\n",
       " {'id': 9, 'username': 'adminq2w12s3adasda4sasd', 'favorites': []},\n",
       " {'id': 10, 'username': 'madams2312132', 'favorites': []},\n",
       " {'id': 11, 'username': 'madams1111', 'favorites': []}]"
      ]
     },
     "execution_count": 5,
     "metadata": {},
     "output_type": "execute_result"
    }
   ],
   "source": [
    "my_api.get_users()"
   ]
  },
  {
   "cell_type": "code",
   "execution_count": null,
   "metadata": {},
   "outputs": [],
   "source": []
  }
 ],
 "metadata": {
  "kernelspec": {
   "display_name": "Python 3.8.3 ('base')",
   "language": "python",
   "name": "python3"
  },
  "language_info": {
   "codemirror_mode": {
    "name": "ipython",
    "version": 3
   },
   "file_extension": ".py",
   "mimetype": "text/x-python",
   "name": "python",
   "nbconvert_exporter": "python",
   "pygments_lexer": "ipython3",
   "version": "3.8.3"
  },
  "orig_nbformat": 4,
  "vscode": {
   "interpreter": {
    "hash": "dfe8b505a3b2573ce87429afee385bea41459b2118ca9b9750f48f1c9509c35d"
   }
  }
 },
 "nbformat": 4,
 "nbformat_minor": 2
}
